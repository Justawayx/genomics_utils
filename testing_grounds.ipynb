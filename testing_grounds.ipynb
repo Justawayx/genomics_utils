{
 "cells": [
  {
   "cell_type": "code",
   "execution_count": 1,
   "id": "79d939c3",
   "metadata": {},
   "outputs": [],
   "source": [
    "from utils import file_parsing_utils as fpu\n",
    "from collections import defaultdict"
   ]
  },
  {
   "cell_type": "markdown",
   "id": "f6f3df7f",
   "metadata": {},
   "source": [
    "# Individual VCF analysis"
   ]
  },
  {
   "cell_type": "code",
   "execution_count": 8,
   "id": "6df87f90",
   "metadata": {},
   "outputs": [
    {
     "name": "stderr",
     "output_type": "stream",
     "text": [
      "16461it [00:44, 373.87it/s]"
     ]
    },
    {
     "name": "stdout",
     "output_type": "stream",
     "text": [
      "Number of variants retained: 136\n"
     ]
    },
    {
     "name": "stderr",
     "output_type": "stream",
     "text": [
      "\n"
     ]
    }
   ],
   "source": [
    "filepath = '/storage/NFS/ANALYSIS/DNAseq/VCF_ann/catVariants_p_fal_Skinner-Adams_3D7_C4_raw.snp.indels.vcf.ann.txt'\n",
    "parent = '3D7-C4'\n",
    "\n",
    "site_allele_anno_dict = defaultdict(dict)\n",
    "clone_mutation_records_dict = fpu.parse_annotated_VCF(filepath, site_allele_anno_dict, \n",
    "                                                      parent_sample=parent, tqdm_on=True)"
   ]
  },
  {
   "cell_type": "code",
   "execution_count": 9,
   "id": "a345ae27",
   "metadata": {},
   "outputs": [
    {
     "data": {
      "image/png": "[encoded data removed]",
      "text/plain": [
       "<Figure size 640x480 with 3 Axes>"
      ]
     },
     "metadata": {},
     "output_type": "display_data"
    }
   ],
   "source": [
    "desired_samples = list(clone_mutation_records_dict.keys())\n",
    "\n",
    "fpu.summarize_mutation_statistics(clone_mutation_records_dict, desired_samples)"
   ]
  },
  {
   "cell_type": "code",
   "execution_count": 10,
   "id": "421a8b2e",
   "metadata": {},
   "outputs": [],
   "source": [
    "filtered_clone_mutation_records_dict = fpu.filter_mutation_records(clone_mutation_records_dict, min_AAF=0.3, min_AAF_diff=0.6)"
   ]
  },
  {
   "cell_type": "code",
   "execution_count": 11,
   "id": "433b46f4",
   "metadata": {},
   "outputs": [
    {
     "name": "stdout",
     "output_type": "stream",
     "text": [
      "3D7-C4-4T-14\n",
      "Pf3D7_03_v3 670335 0,184 138,0 missense_variant p.Ile92Leu/c.274A>C PF3D7_0316600\n",
      "Pf3D7_05_v3 958767 0,227 93,0 missense_variant p.Gly293Val/c.878G>T PF3D7_0523000\n",
      "Pf3D7_08_v3 1333456 1,12 5,0 intron_variant c.108+62_109-50delTATATATATATATATA PF3D7_0831200\n",
      "Pf3D7_09_v3 236870 0,27 17,0 intron_variant c.5986-25_5986-22delATAT PF3D7_0905100\n",
      "Pf3D7_09_v3 1203204 0,26 33,0 missense_variant p.Thr465Ser/c.1393A>T PF3D7_0930300\n",
      "Pf3D7_11_v3 543 0,3 121,0 intergenic_region n.543A>G \n",
      "Pf3D7_11_v3 549 0,3 114,0 intergenic_region n.549T>G \n",
      "Pf3D7_12_v3 1219443 0,17 11,1 intron_variant c.6669-16_6669-12delATTTT PF3D7_1229800\n",
      "Pf3D7_14_v3 1038 0,5 103,1 upstream_gene_variant c.-355A>G PF3D7_1400100\n",
      "\n",
      "3D7-C4-4T-8\n",
      "Pf3D7_03_v3 670335 0,181 138,0 missense_variant p.Ile92Leu/c.274A>C PF3D7_0316600\n",
      "Pf3D7_05_v3 958767 0,219 93,0 missense_variant p.Gly293Val/c.878G>T PF3D7_0523000\n",
      "Pf3D7_06_v3 1250787 0,92 85,0 missense_variant p.Val126Leu/c.376G>T PF3D7_0629900\n",
      "Pf3D7_08_v3 324424 0,8 6,0 intron_variant c.664-71_664-60delATATATATATAT PF3D7_0805900\n",
      "Pf3D7_08_v3 561659 0,9 19,0 inframe_deletion p.Asn272_Asn273del/c.814_819delAATAAT PF3D7_0811200\n",
      "Pf3D7_09_v3 236870 1,14 17,0 intron_variant c.5986-25_5986-22delATAT PF3D7_0905100\n",
      "Pf3D7_09_v3 487506 0,63 71,0 missense_variant p.Asn17Asp/c.49A>G PF3D7_0910500\n",
      "Pf3D7_11_v3 550 0,2 113,0 intergenic_region n.550_551insA \n",
      "Pf3D7_11_v3 557 0,2 119,0 intergenic_region n.557G>A \n",
      "Pf3D7_11_v3 30375 2,9 201,0 missense_variant p.Ala1776Ser/c.5326G>T PF3D7_1100100\n",
      "Pf3D7_11_v3 30376 2,8 203,0 frameshift_variant p.Ser1777fs/c.5327_5328insTACTATTG PF3D7_1100100\n",
      "Pf3D7_11_v3 354627 0,7,4 7,0,2 downstream_gene_variant c.*366_*367insT PF3D7_1108000\n",
      "Pf3D7_11_v3 1568747 0,5 17,0 upstream_gene_variant n.-856_-855delTT PF3D7_1139400\n",
      "Pf3D7_12_v3 1219443 0,8 11,1 intron_variant c.6669-16_6669-12delATTTT PF3D7_1229800\n",
      "Pf3D7_12_v3 1803823 0,6 9,0 intron_variant c.3+169delA PF3D7_1242700\n",
      "Pf3D7_13_v3 360639 1,5 14,0 downstream_gene_variant c.*13_*14delAT PF3D7_1308100\n",
      "\n",
      "3D7-C4-4T-11\n",
      "Pf3D7_02_v3 636463 2,131 107,0 missense_variant p.Gly349Arg/c.1045G>C PF3D7_0215400\n",
      "Pf3D7_03_v3 670335 0,196 138,0 missense_variant p.Ile92Leu/c.274A>C PF3D7_0316600\n",
      "Pf3D7_05_v3 958767 0,215 93,0 missense_variant p.Gly293Val/c.878G>T PF3D7_0523000\n",
      "Pf3D7_07_v3 663210 1,14 8,2 intron_variant c.108-86_108-85delTA PF3D7_0714400\n",
      "Pf3D7_08_v3 267691 0,39 51,0 intron_variant c.17458-98_17458-84delTTCATATATAATATG PF3D7_0804500\n",
      "Pf3D7_09_v3 236870 0,21 17,0 intron_variant c.5986-25_5986-22delATAT PF3D7_0905100\n",
      "Pf3D7_11_v3 550 0,2 113,0 intergenic_region n.550_551insA \n",
      "Pf3D7_11_v3 557 0,2 119,0 intergenic_region n.557G>A \n",
      "Pf3D7_11_v3 12747 0,2 254,0 intergenic_region n.12747A>G \n",
      "Pf3D7_11_v3 12757 0,2 239,0 intergenic_region n.12757A>C \n",
      "Pf3D7_11_v3 12758 0,2 241,0 intergenic_region n.12758G>A \n",
      "Pf3D7_11_v3 12769 0,2 243,0 intergenic_region n.12769A>C \n",
      "Pf3D7_12_v3 818490 0,11 21,0 downstream_gene_variant c.*23_*32delAAAATAAAAT PF3D7_1220400\n",
      "Pf3D7_12_v3 1219443 0,15 11,1 intron_variant c.6669-16_6669-12delATTTT PF3D7_1229800\n",
      "Pf3D7_13_v3 427644 1,15 26,0 inframe_insertion p.Asn665_Asn666dup/c.1994_1999dupATAATA PF3D7_1309300\n",
      "Pf3D7_14_v3 2042768 5,9 13,0 upstream_gene_variant c.-240_-239delAT PF3D7_1449800\n",
      "\n",
      "3D7-C4-4T-9\n",
      "Pf3D7_03_v3 670335 0,175 138,0 missense_variant p.Ile92Leu/c.274A>C PF3D7_0316600\n",
      "Pf3D7_04_v3 1094771 10,32 110,0 missense_variant p.Val544Gly/c.1631T>G PF3D7_0424300\n",
      "Pf3D7_04_v3 1094773 10,17 117,0 stop_gained+disruptive_inframe_insertion p.Cys545delinsPheArgValTerValTerGlySerGlyPheArgValTerGly/c.1633_1634insTCAGGGTTTAGGTTTAGGGTTCAGGGTTCAGGGTTTAGG PF3D7_0424300\n",
      "Pf3D7_05_v3 958767 0,200 93,0 missense_variant p.Gly293Val/c.878G>T PF3D7_0523000\n",
      "Pf3D7_09_v3 221507 0,5 10,0 upstream_gene_variant c.-763delT PF3D7_0904800\n",
      "Pf3D7_09_v3 236870 1,18 17,0 intron_variant c.5986-25_5986-22delATAT PF3D7_0905100\n",
      "Pf3D7_09_v3 1541674 3,14 17,1 intergenic_region  \n",
      "Pf3D7_11_v3 455601 3,7 28,1 upstream_gene_variant c.-67_-66delAT PF3D7_1111800\n",
      "Pf3D7_12_v3 808897 1,6 16,1 frameshift_variant p.Asn408fs/c.1223delA PF3D7_1220300\n",
      "Pf3D7_12_v3 1067739 0,9 10,2 intron_variant c.2487-33_2487-32insATAT PF3D7_1226400\n",
      "Pf3D7_12_v3 1219443 0,9 11,1 intron_variant c.6669-16_6669-12delATTTT PF3D7_1229800\n",
      "Pf3D7_13_v3 2402380 6,78 61,0 downstream_gene_variant c.*26C>G PF3D7_1359900\n",
      "Pf3D7_14_v3 89189 2,7 14,0 downstream_gene_variant c.*375delT PF3D7_1402400\n",
      "Pf3D7_14_v3 169630 1,5 22,2 upstream_gene_variant c.-369delT PF3D7_1404900\n",
      "Pf3D7_14_v3 670493 3,26 56,0 missense_variant p.Met2760Ile/c.8280G>T PF3D7_1416600\n",
      "\n"
     ]
    }
   ],
   "source": [
    "for clone in filtered_clone_mutation_records_dict:\n",
    "    print(clone)\n",
    "    for mutation_record in filtered_clone_mutation_records_dict[clone]:\n",
    "        CHROM, POS, QUAL, GT, AD, parent_AD, REF, ALT = mutation_record\n",
    "        effect, impact, codon_change, aa_change, gene = fpu.annotate_record(mutation_record, site_allele_anno_dict)\n",
    "        print(CHROM, POS, AD, parent_AD, effect, aa_change, gene, gene_)\n",
    "    print()"
   ]
  },
  {
   "cell_type": "code",
   "execution_count": 5,
   "id": "53be821d",
   "metadata": {},
   "outputs": [
    {
     "name": "stdout",
     "output_type": "stream",
     "text": [
      "#CHROM : M76611\n",
      "POS : 3527\n",
      "ID : .\n",
      "REF : C\n",
      "ALT : A\n",
      "QUAL : 11394.14\n",
      "FILTER : .\n",
      "INFO : AC=2;AF=0.333;AN=6;BaseQRankSum=3.700;ClippingRankSum=-0.695;DP=3203;ExcessHet=0.4576;FS=0.000;MLEAC=2;MLEAF=0.333;MQ=60.00;MQRankSum=-0.292;QD=33.51;ReadPosRankSum=-1.767;SOR=0.660;EFF=missense_variant(MODERATE|MISSENSE|caC/caA|p.His12Gln/c.36C>A|376|mal_mito_3|protein_coding|CODING|rna_mal_mito_3-1|1|A),downstream_gene_variant(MODIFIER||56|c.*56C>A|478|mal_mito_2|protein_coding|CODING|rna_mal_mito_2-1||A)\n",
      "FORMAT : GT:AD:DP:GQ:PL\n",
      "Wirth-ELQ300-NF54-10nM : 0/0:852,13:865:99:0,2108,33762\n",
      "Wirth-ELQ300-NF54-50nM : 1/1:24,316:340:89:11432,89,0\n",
      "Wirth-ELQs-NF54-parent : 0/0:1990,0:1990:99:0,5976,75580\n"
     ]
    }
   ],
   "source": [
    "fpu.inspect_VCF_row(filepath, 'M76611', 3527)"
   ]
  }
 ],
 "metadata": {
  "kernelspec": {
   "display_name": "Python 3 (ipykernel)",
   "language": "python",
   "name": "python3"
  },
  "language_info": {
   "codemirror_mode": {
    "name": "ipython",
    "version": 3
   },
   "file_extension": ".py",
   "mimetype": "text/x-python",
   "name": "python",
   "nbconvert_exporter": "python",
   "pygments_lexer": "ipython3",
   "version": "3.10.9"
  }
 },
 "nbformat": 4,
 "nbformat_minor": 5
}
