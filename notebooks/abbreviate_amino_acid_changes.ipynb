{
 "cells": [
  {
   "cell_type": "code",
   "execution_count": 1,
   "id": "d85f5649",
   "metadata": {},
   "outputs": [],
   "source": [
    "aa3_to_aa1_dict = {\"Ala\": \"A\", \"Arg\": \"R\", \"Asn\": \"N\", \"Asp\": \"D\", \"Cys\": \"C\", \"Glu\": \"E\", \"Gln\": \"Q\", \"Gly\": \"G\", \n",
    "                   \"His\": \"H\", \"Ile\": \"I\", \"Leu\": \"L\", \"Lys\": \"K\", \"Met\": \"M\", \"Phe\": \"F\", \"Pro\": \"P\", \"Ser\": \"S\", \n",
    "                   \"Thr\": \"T\", \"Trp\": \"W\", \"Tyr\": \"Y\", \"Val\": \"V\", \"Ter\": \"Ter\"}\n",
    "\n",
    "def aa_change_to_abbr(aa_change):\n",
    "    if 'p.' not in aa_change:\n",
    "        return aa_change\n",
    "    aa_change_only = aa_change.split('/')[0].split('p.')[1]\n",
    "    aa1_1 = aa3_to_aa1_dict[aa_change_only[:3]]\n",
    "    if aa_change_only[-3:] in aa3_to_aa1_dict:\n",
    "        aa1_2 = aa3_to_aa1_dict[aa_change_only[-3:]]\n",
    "        return aa1_1 + aa_change_only[3:-3] + aa1_2\n",
    "    else:\n",
    "        return aa1_1 + aa_change_only[3:]"
   ]
  },
  {
   "cell_type": "code",
   "execution_count": 2,
   "id": "064be859",
   "metadata": {},
   "outputs": [],
   "source": [
    "aa_changes = '''p.Glu8*/c.22G>T\n",
    "p.Val32fs/c.91delC\n",
    "p.Val32Leu/c.94G>T\n",
    "p.Val32Gly/c.95T>G\n",
    "p.Ser62*/c.185C>A\n",
    "p.Tyr144*/c.432C>A\n",
    "p.Gly154Asp/c.461G>A\n",
    "p.Ser156*/c.467C>G\n",
    "p.Pro172Pro/c.516A>T\n",
    "p.Gly173*/c.517G>T\n",
    "p.Ser187Phe/c.560C>T\n",
    "p.Thr264fs/c.790delA'''.split('\\n')"
   ]
  },
  {
   "cell_type": "code",
   "execution_count": 3,
   "id": "4d3699a9",
   "metadata": {},
   "outputs": [
    {
     "name": "stdout",
     "output_type": "stream",
     "text": [
      "E8*\n",
      "V32fs\n",
      "V32L\n",
      "V32G\n",
      "S62*\n",
      "Y144*\n",
      "G154D\n",
      "S156*\n",
      "P172P\n",
      "G173*\n",
      "S187F\n",
      "T264fs\n"
     ]
    }
   ],
   "source": [
    "for aa_change in aa_changes:\n",
    "    print(aa_change_to_abbr(aa_change))"
   ]
  }
 ],
 "metadata": {
  "kernelspec": {
   "display_name": "Python 3 (ipykernel)",
   "language": "python",
   "name": "python3"
  },
  "language_info": {
   "codemirror_mode": {
    "name": "ipython",
    "version": 3
   },
   "file_extension": ".py",
   "mimetype": "text/x-python",
   "name": "python",
   "nbconvert_exporter": "python",
   "pygments_lexer": "ipython3",
   "version": "3.10.9"
  }
 },
 "nbformat": 4,
 "nbformat_minor": 5
}
